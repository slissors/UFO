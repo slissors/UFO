{
 "cells": [
  {
   "cell_type": "code",
   "execution_count": 1,
   "metadata": {},
   "outputs": [],
   "source": [
    "\n",
    "import requests\n",
    "from bs4 import BeautifulSoup\n",
    "import csv\n",
    "import re"
   ]
  },
  {
   "cell_type": "markdown",
   "metadata": {},
   "source": [
    "1.\tStar Wars: Episode VII – The force Awakens 2015\n",
    "https://www.boxofficemojo.com/release/rl2691925505/?ref_=bo_gr_rls\n",
    "\n",
    "2.\tAvengers: Endgame 2019\n",
    "https://www.boxofficemojo.com/release/rl3059975681/?ref_=bo_tt_gr_1\n",
    "\n",
    "3.\tSpider-Man: No Way Home 2021\n",
    "https://www.boxofficemojo.com/release/rl2869659137/?ref_=bo_gr_rls\n",
    "\n",
    "4.\tAvatar 2009\n",
    "https://www.boxofficemojo.com/release/rl876971521/?ref_=bo_gr_rls\n",
    "\n",
    "5.\tAvengers: Infinity War 2018\n",
    "https://www.boxofficemojo.com/release/rl3043198465/?ref_=bo_gr_rls\n",
    "\n",
    "6.\tAvengers Assemble 2012\n",
    " https://www.boxofficemojo.com/releasegroup/gr1911837189/?ref_=bo_tt_gr_1\n",
    "\n",
    "7.\tStar Wars (2017)\n",
    "https://www.boxofficemojo.com/release/rl2708702721/?ref_=bo_gr_rls\n",
    "\n",
    "8.\tAvengers: Age of Ulton (2015)\n",
    "https://www.boxofficemojo.com/title/tt2395427/?ref_=bo_se_r_1\n",
    "\n",
    "9.\tRogue One (2016)\n",
    "https://www.boxofficemojo.com/release/rl2557707777/?ref_=bo_gr_rls\n",
    "\n",
    "10.\tStar Wars (2019)\n",
    "https://www.boxofficemojo.com/release/rl3305145857/?ref_=bo_gr_rls\n",
    "\n"
   ]
  },
  {
   "cell_type": "code",
   "execution_count": 2,
   "metadata": {},
   "outputs": [],
   "source": [
    "\n",
    "def movie_scraper(url):\n",
    "    response = requests.get(url)\n",
    "    response = response.content\n",
    "\n",
    "    soup = BeautifulSoup(response, 'html.parser')\n",
    "\n",
    "    title = soup.find('h1').text.strip()\n",
    "    \n",
    "    # Replace invalid characters with underscores in the title\n",
    "    title = re.sub(r'[\\/:*?\"<>| ]', '-', title)\n",
    "\n",
    "    csv_filename = f\"{title}.csv\"\n",
    "    csv_header = [\"date\", \"gross\"]\n",
    "\n",
    "    table = soup.find('table', class_=\"a-bordered a-horizontal-stripes a-size-base a-span12 mojo-body-table mojo-table-annotated\")\n",
    "    tr = table.find_all('tr')\n",
    "\n",
    "    with open(csv_filename, 'w', newline='', encoding='utf-8') as csv_file:\n",
    "        csv_writer = csv.writer(csv_file)\n",
    "        csv_writer.writerow(csv_header)\n",
    "\n",
    "        for td in tr[1:]:\n",
    "            date_element = td.find('a')['href']\n",
    "            date = date_element.split('/')[2]\n",
    "\n",
    "            gross_element = td.find(class_=\"a-text-right mojo-field-type-money mojo-estimatable\").text\n",
    "            gross = int(gross_element[1:].replace(',', ''))\n",
    "\n",
    "            csv_writer.writerow([date, gross])\n",
    "\n",
    "    print(\"Data scraped and saved to : \", csv_filename)\n",
    "\n"
   ]
  },
  {
   "cell_type": "code",
   "execution_count": 4,
   "metadata": {},
   "outputs": [
    {
     "name": "stdout",
     "output_type": "stream",
     "text": [
      "Data scraped and saved to :  Star-Wars--Episode-VII---The-Force-Awakens.csv\n",
      "Data scraped and saved to :  Avengers--Endgame.csv\n",
      "Data scraped and saved to :  Spider-Man--No-Way-Home.csv\n",
      "Data scraped and saved to :  Avatar.csv\n",
      "Data scraped and saved to :  Avengers--Infinity-War.csv\n",
      "Data scraped and saved to :  The-Avengers.csv\n",
      "Data scraped and saved to :  Star-Wars--Episode-VIII---The-Last-Jedi.csv\n",
      "Data scraped and saved to :  Avengers--Age-of-Ultron.csv\n",
      "Data scraped and saved to :  Rogue-One--A-Star-Wars-Story.csv\n",
      "Data scraped and saved to :  Star-Wars--Episode-IX---The-Rise-of-Skywalker.csv\n"
     ]
    }
   ],
   "source": [
    "# List of URLs to scrape\n",
    "urls = [\n",
    "    \"https://www.boxofficemojo.com/release/rl2691925505/?ref_=bo_gr_rls\",\n",
    "    \"https://www.boxofficemojo.com/release/rl3059975681/?ref_=bo_tt_gr_1\",\n",
    "    \"https://www.boxofficemojo.com/release/rl2869659137/?ref_=bo_gr_rls\",\n",
    "    \"https://www.boxofficemojo.com/release/rl876971521/?ref_=bo_gr_rls\",\n",
    "    \"https://www.boxofficemojo.com/release/rl3043198465/?ref_=bo_gr_rls\",\n",
    "    \"https://www.boxofficemojo.com/release/rl709199361/?ref_=bo_gr_rls\",\n",
    "    \"https://www.boxofficemojo.com/release/rl2708702721/?ref_=bo_gr_rls\",\n",
    "    \"https://www.boxofficemojo.com/release/rl675644929/?ref_=bo_gr_rls\",\n",
    "    \"https://www.boxofficemojo.com/release/rl2557707777/?ref_=bo_gr_rls\",\n",
    "    \"https://www.boxofficemojo.com/release/rl3305145857/?ref_=bo_gr_rls\"\n",
    "\n",
    "]\n",
    "\n",
    "for url in urls:\n",
    "    movie_scraper(url)"
   ]
  }
 ],
 "metadata": {
  "kernelspec": {
   "display_name": "myenv",
   "language": "python",
   "name": "python3"
  },
  "language_info": {
   "codemirror_mode": {
    "name": "ipython",
    "version": 3
   },
   "file_extension": ".py",
   "mimetype": "text/x-python",
   "name": "python",
   "nbconvert_exporter": "python",
   "pygments_lexer": "ipython3",
   "version": "3.11.2"
  },
  "orig_nbformat": 4
 },
 "nbformat": 4,
 "nbformat_minor": 2
}
