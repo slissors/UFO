{
 "cells": [
  {
   "cell_type": "code",
   "execution_count": 3,
   "metadata": {},
   "outputs": [
    {
     "name": "stderr",
     "output_type": "stream",
     "text": [
      "C:\\Users\\emofr\\AppData\\Local\\Temp\\ipykernel_5240\\2412435172.py:12: SettingWithCopyWarning: \n",
      "A value is trying to be set on a copy of a slice from a DataFrame.\n",
      "Try using .loc[row_indexer,col_indexer] = value instead\n",
      "\n",
      "See the caveats in the documentation: https://pandas.pydata.org/pandas-docs/stable/user_guide/indexing.html#returning-a-view-versus-a-copy\n",
      "  nuforc_filtered['date'] = pd.to_datetime(nuforc_filtered['date'])\n"
     ]
    }
   ],
   "source": [
    "import pandas as pd\n",
    "import os\n",
    "\n",
    "\n",
    "nuforc_orginal = pd.read_csv('../../nuforc_reports.csv')\n",
    "\n",
    "#only include 'country' = USA and filter coloumns\n",
    "nuforc_usa = nuforc_orginal[nuforc_orginal['country'] == 'USA']\n",
    "nuforc_filtered = nuforc_usa[['state','city_latitude', 'city_longitude', 'date', 'time']]\n",
    "\n",
    "#Convert 'date' column to datetime format and filter\n",
    "nuforc_filtered['date'] = pd.to_datetime(nuforc_filtered['date'])\n",
    "\n",
    "\n",
    "\n",
    "\n",
    "\n",
    "nuforc_year = nuforc_filtered[nuforc_filtered['date'].dt.year >= 2009]\n",
    "\n",
    "#remove null or empty \n",
    "nuforc_clean = nuforc_year.dropna()\n",
    "\n",
    "output = f'sightings_coordinates.csv'\n",
    "nuforc_clean.to_csv(output, index=False)\n",
    "\n",
    "\n",
    "\n"
   ]
  },
  {
   "cell_type": "code",
   "execution_count": 6,
   "metadata": {},
   "outputs": [],
   "source": [
    "for csv_year in range(2009,2022):\n",
    "    nuforc_year = nuforc_filtered[nuforc_filtered['date'].dt.year == csv_year]\n",
    "\n",
    "    #remove null or empty \n",
    "    nuforc_clean = nuforc_year.dropna()\n",
    "\n",
    "    output = f'sightings_coordinates_{csv_year}.csv'\n",
    "    nuforc_clean.to_csv(output, index=False)\n",
    "    \n",
    "\n",
    "\n",
    "# Read data from the CSV file\n",
    "df = pd.read_csv('../sightings_coordinates.csv')\n",
    "\n",
    "# Combine date and time into a single column\n",
    "df['datetime'] = df['date'] + ' ' + df['time']\n",
    "\n",
    "# Convert to datetime\n",
    "df['datetime'] = pd.to_datetime(df['datetime'])\n",
    "\n",
    "\n",
    "# Save the DataFrame to a new CSV file\n",
    "df.to_csv('datetime_sightings.csv', index=False)"
   ]
  }
 ],
 "metadata": {
  "kernelspec": {
   "display_name": "Python 3",
   "language": "python",
   "name": "python3"
  },
  "language_info": {
   "codemirror_mode": {
    "name": "ipython",
    "version": 3
   },
   "file_extension": ".py",
   "mimetype": "text/x-python",
   "name": "python",
   "nbconvert_exporter": "python",
   "pygments_lexer": "ipython3",
   "version": "3.11.2"
  }
 },
 "nbformat": 4,
 "nbformat_minor": 2
}
